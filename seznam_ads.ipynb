{
  "cells": [
    {
      "cell_type": "markdown",
      "metadata": {
        "id": "N687j9toPqYL"
      },
      "source": [
        "Imports"
      ]
    },
    {
      "cell_type": "code",
      "execution_count": 4,
      "metadata": {
        "id": "ZipYEXglO8nw"
      },
      "outputs": [],
      "source": [
        "import pandas as pd\n",
        "import numpy as np"
      ]
    },
    {
      "cell_type": "markdown",
      "metadata": {
        "id": "m9l9TApAPw22"
      },
      "source": [
        "Load csv files into dataframes"
      ]
    },
    {
      "cell_type": "code",
      "execution_count": 5,
      "metadata": {
        "colab": {
          "base_uri": "https://localhost:8080/"
        },
        "id": "k5LTTuqhPzK0",
        "outputId": "f2ff1018-12db-403a-e453-6a03343f52f1"
      },
      "outputs": [
        {
          "name": "stderr",
          "output_type": "stream",
          "text": [
            "c:\\Users\\lacal\\AppData\\Local\\Programs\\Python\\Python310\\lib\\site-packages\\IPython\\core\\interactiveshell.py:3397: FutureWarning: In a future version of pandas all arguments of read_csv except for the argument 'filepath_or_buffer' will be keyword-only.\n",
            "  exec(code_obj, self.user_global_ns, self.user_ns)\n"
          ]
        }
      ],
      "source": [
        "df_clicks = pd.read_csv('clicks.csv', ',')\n",
        "df_impressions = pd.read_csv('impressions.csv')"
      ]
    },
    {
      "cell_type": "code",
      "execution_count": 6,
      "metadata": {
        "colab": {
          "base_uri": "https://localhost:8080/",
          "height": 426
        },
        "id": "e6-l_ZssSn7k",
        "outputId": "9efa78bd-ce48-478d-c5c2-4e58ad2db6bc"
      },
      "outputs": [
        {
          "data": {
            "text/html": [
              "<div>\n",
              "<style scoped>\n",
              "    .dataframe tbody tr th:only-of-type {\n",
              "        vertical-align: middle;\n",
              "    }\n",
              "\n",
              "    .dataframe tbody tr th {\n",
              "        vertical-align: top;\n",
              "    }\n",
              "\n",
              "    .dataframe thead th {\n",
              "        text-align: right;\n",
              "    }\n",
              "</style>\n",
              "<table border=\"1\" class=\"dataframe\">\n",
              "  <thead>\n",
              "    <tr style=\"text-align: right;\">\n",
              "      <th></th>\n",
              "      <th>clickTimestamp</th>\n",
              "      <th>impressionId</th>\n",
              "    </tr>\n",
              "  </thead>\n",
              "  <tbody>\n",
              "    <tr>\n",
              "      <th>0</th>\n",
              "      <td>2021-04-20 10:50:07</td>\n",
              "      <td>1</td>\n",
              "    </tr>\n",
              "    <tr>\n",
              "      <th>1</th>\n",
              "      <td>2021-04-20 10:59:48</td>\n",
              "      <td>3</td>\n",
              "    </tr>\n",
              "    <tr>\n",
              "      <th>2</th>\n",
              "      <td>2021-04-20 11:23:21</td>\n",
              "      <td>4</td>\n",
              "    </tr>\n",
              "    <tr>\n",
              "      <th>3</th>\n",
              "      <td>2021-04-20 11:18:45</td>\n",
              "      <td>5</td>\n",
              "    </tr>\n",
              "    <tr>\n",
              "      <th>4</th>\n",
              "      <td>2021-04-21 00:04:58</td>\n",
              "      <td>11</td>\n",
              "    </tr>\n",
              "    <tr>\n",
              "      <th>5</th>\n",
              "      <td>2021-04-21 12:11:07</td>\n",
              "      <td>14</td>\n",
              "    </tr>\n",
              "    <tr>\n",
              "      <th>6</th>\n",
              "      <td>2021-04-21 12:20:26</td>\n",
              "      <td>14</td>\n",
              "    </tr>\n",
              "    <tr>\n",
              "      <th>7</th>\n",
              "      <td>2021-04-21 12:23:34</td>\n",
              "      <td>15</td>\n",
              "    </tr>\n",
              "    <tr>\n",
              "      <th>8</th>\n",
              "      <td>2021-04-21 17:12:48</td>\n",
              "      <td>22</td>\n",
              "    </tr>\n",
              "    <tr>\n",
              "      <th>9</th>\n",
              "      <td>2021-04-21 17:26:53</td>\n",
              "      <td>22</td>\n",
              "    </tr>\n",
              "    <tr>\n",
              "      <th>10</th>\n",
              "      <td>2021-04-21 23:59:35</td>\n",
              "      <td>26</td>\n",
              "    </tr>\n",
              "    <tr>\n",
              "      <th>11</th>\n",
              "      <td>2021-04-22 00:10:23</td>\n",
              "      <td>27</td>\n",
              "    </tr>\n",
              "  </tbody>\n",
              "</table>\n",
              "</div>"
            ],
            "text/plain": [
              "         clickTimestamp  impressionId\n",
              "0   2021-04-20 10:50:07             1\n",
              "1   2021-04-20 10:59:48             3\n",
              "2   2021-04-20 11:23:21             4\n",
              "3   2021-04-20 11:18:45             5\n",
              "4   2021-04-21 00:04:58            11\n",
              "5   2021-04-21 12:11:07            14\n",
              "6   2021-04-21 12:20:26            14\n",
              "7   2021-04-21 12:23:34            15\n",
              "8   2021-04-21 17:12:48            22\n",
              "9   2021-04-21 17:26:53            22\n",
              "10  2021-04-21 23:59:35            26\n",
              "11  2021-04-22 00:10:23            27"
            ]
          },
          "execution_count": 6,
          "metadata": {},
          "output_type": "execute_result"
        }
      ],
      "source": [
        "df_clicks"
      ]
    },
    {
      "cell_type": "markdown",
      "metadata": {
        "id": "wWyb8nYUVPG5"
      },
      "source": [
        "Merge 'clicks' and 'impressions' into new dataframe"
      ]
    },
    {
      "cell_type": "code",
      "execution_count": 7,
      "metadata": {
        "id": "Ac5JVGrgVLmm"
      },
      "outputs": [],
      "source": [
        "df = pd.merge(df_impressions, df_clicks, on=\"impressionId\", how='right')"
      ]
    },
    {
      "cell_type": "markdown",
      "metadata": {
        "id": "piaH7Wu0VTz6"
      },
      "source": [
        "Sort newly created dataframe by 'adId', 'visitorHash' and 'clickTimestamp'"
      ]
    },
    {
      "cell_type": "code",
      "execution_count": 8,
      "metadata": {
        "id": "YJUechlNUVJX"
      },
      "outputs": [],
      "source": [
        "df = df.sort_values(by = ['adId', 'visitorHash', 'clickTimestamp'], na_position = 'first')\n",
        "df['clickTimestamp'] = pd.to_datetime(df['clickTimestamp'], format=\"%Y-%m-%d %H:%M:%S\")\n",
        "df = df.reset_index()"
      ]
    },
    {
      "cell_type": "markdown",
      "metadata": {},
      "source": [
        "When its sorted, we can see individual clicks of users on advertisements"
      ]
    },
    {
      "cell_type": "code",
      "execution_count": 9,
      "metadata": {
        "colab": {
          "base_uri": "https://localhost:8080/",
          "height": 426
        },
        "id": "p-iJrm9vbjii",
        "outputId": "6742295d-12ce-4d3e-fb84-f1868b3f0026"
      },
      "outputs": [
        {
          "data": {
            "text/html": [
              "<div>\n",
              "<style scoped>\n",
              "    .dataframe tbody tr th:only-of-type {\n",
              "        vertical-align: middle;\n",
              "    }\n",
              "\n",
              "    .dataframe tbody tr th {\n",
              "        vertical-align: top;\n",
              "    }\n",
              "\n",
              "    .dataframe thead th {\n",
              "        text-align: right;\n",
              "    }\n",
              "</style>\n",
              "<table border=\"1\" class=\"dataframe\">\n",
              "  <thead>\n",
              "    <tr style=\"text-align: right;\">\n",
              "      <th></th>\n",
              "      <th>index</th>\n",
              "      <th>impressionTime</th>\n",
              "      <th>impressionId</th>\n",
              "      <th>adId</th>\n",
              "      <th>visitorHash</th>\n",
              "      <th>clickTimestamp</th>\n",
              "    </tr>\n",
              "  </thead>\n",
              "  <tbody>\n",
              "    <tr>\n",
              "      <th>0</th>\n",
              "      <td>8</td>\n",
              "      <td>2021-04-21 17:07:08</td>\n",
              "      <td>22</td>\n",
              "      <td>1</td>\n",
              "      <td>qwFm9BDFVR9UigCwRiwmNSwlJZkP3PyU</td>\n",
              "      <td>2021-04-21 17:12:48</td>\n",
              "    </tr>\n",
              "    <tr>\n",
              "      <th>1</th>\n",
              "      <td>9</td>\n",
              "      <td>2021-04-21 17:07:08</td>\n",
              "      <td>22</td>\n",
              "      <td>1</td>\n",
              "      <td>qwFm9BDFVR9UigCwRiwmNSwlJZkP3PyU</td>\n",
              "      <td>2021-04-21 17:26:53</td>\n",
              "    </tr>\n",
              "    <tr>\n",
              "      <th>2</th>\n",
              "      <td>10</td>\n",
              "      <td>2021-04-21 23:58:07</td>\n",
              "      <td>26</td>\n",
              "      <td>2</td>\n",
              "      <td>8VTYLnaJZW7dfQH72tPXAbvyNIWeWLU7</td>\n",
              "      <td>2021-04-21 23:59:35</td>\n",
              "    </tr>\n",
              "    <tr>\n",
              "      <th>3</th>\n",
              "      <td>11</td>\n",
              "      <td>2021-04-22 00:04:56</td>\n",
              "      <td>27</td>\n",
              "      <td>2</td>\n",
              "      <td>8VTYLnaJZW7dfQH72tPXAbvyNIWeWLU7</td>\n",
              "      <td>2021-04-22 00:10:23</td>\n",
              "    </tr>\n",
              "    <tr>\n",
              "      <th>4</th>\n",
              "      <td>4</td>\n",
              "      <td>2021-04-21 00:02:43</td>\n",
              "      <td>11</td>\n",
              "      <td>2</td>\n",
              "      <td>ywXGzqthzpkiwsrTckExu9nVVoDjNjK4</td>\n",
              "      <td>2021-04-21 00:04:58</td>\n",
              "    </tr>\n",
              "    <tr>\n",
              "      <th>5</th>\n",
              "      <td>3</td>\n",
              "      <td>2021-04-20 11:09:45</td>\n",
              "      <td>5</td>\n",
              "      <td>3</td>\n",
              "      <td>8VTYLnaJZW7dfQH72tPXAbvyNIWeWLU7</td>\n",
              "      <td>2021-04-20 11:18:45</td>\n",
              "    </tr>\n",
              "    <tr>\n",
              "      <th>6</th>\n",
              "      <td>2</td>\n",
              "      <td>2021-04-20 11:03:12</td>\n",
              "      <td>4</td>\n",
              "      <td>3</td>\n",
              "      <td>PFm4s8dmTBsIFEMqHApcGgutH2goD0v2</td>\n",
              "      <td>2021-04-20 11:23:21</td>\n",
              "    </tr>\n",
              "    <tr>\n",
              "      <th>7</th>\n",
              "      <td>0</td>\n",
              "      <td>2021-04-20 10:48:07</td>\n",
              "      <td>1</td>\n",
              "      <td>4</td>\n",
              "      <td>8VTYLnaJZW7dfQH72tPXAbvyNIWeWLU7</td>\n",
              "      <td>2021-04-20 10:50:07</td>\n",
              "    </tr>\n",
              "    <tr>\n",
              "      <th>8</th>\n",
              "      <td>1</td>\n",
              "      <td>2021-04-20 10:52:57</td>\n",
              "      <td>3</td>\n",
              "      <td>4</td>\n",
              "      <td>8VTYLnaJZW7dfQH72tPXAbvyNIWeWLU7</td>\n",
              "      <td>2021-04-20 10:59:48</td>\n",
              "    </tr>\n",
              "    <tr>\n",
              "      <th>9</th>\n",
              "      <td>5</td>\n",
              "      <td>2021-04-21 12:07:51</td>\n",
              "      <td>14</td>\n",
              "      <td>4</td>\n",
              "      <td>PFm4s8dmTBsIFEMqHApcGgutH2goD0v2</td>\n",
              "      <td>2021-04-21 12:11:07</td>\n",
              "    </tr>\n",
              "    <tr>\n",
              "      <th>10</th>\n",
              "      <td>6</td>\n",
              "      <td>2021-04-21 12:07:51</td>\n",
              "      <td>14</td>\n",
              "      <td>4</td>\n",
              "      <td>PFm4s8dmTBsIFEMqHApcGgutH2goD0v2</td>\n",
              "      <td>2021-04-21 12:20:26</td>\n",
              "    </tr>\n",
              "    <tr>\n",
              "      <th>11</th>\n",
              "      <td>7</td>\n",
              "      <td>2021-04-21 12:13:49</td>\n",
              "      <td>15</td>\n",
              "      <td>4</td>\n",
              "      <td>PFm4s8dmTBsIFEMqHApcGgutH2goD0v2</td>\n",
              "      <td>2021-04-21 12:23:34</td>\n",
              "    </tr>\n",
              "  </tbody>\n",
              "</table>\n",
              "</div>"
            ],
            "text/plain": [
              "    index       impressionTime  impressionId  adId  \\\n",
              "0       8  2021-04-21 17:07:08            22     1   \n",
              "1       9  2021-04-21 17:07:08            22     1   \n",
              "2      10  2021-04-21 23:58:07            26     2   \n",
              "3      11  2021-04-22 00:04:56            27     2   \n",
              "4       4  2021-04-21 00:02:43            11     2   \n",
              "5       3  2021-04-20 11:09:45             5     3   \n",
              "6       2  2021-04-20 11:03:12             4     3   \n",
              "7       0  2021-04-20 10:48:07             1     4   \n",
              "8       1  2021-04-20 10:52:57             3     4   \n",
              "9       5  2021-04-21 12:07:51            14     4   \n",
              "10      6  2021-04-21 12:07:51            14     4   \n",
              "11      7  2021-04-21 12:13:49            15     4   \n",
              "\n",
              "                         visitorHash      clickTimestamp  \n",
              "0   qwFm9BDFVR9UigCwRiwmNSwlJZkP3PyU 2021-04-21 17:12:48  \n",
              "1   qwFm9BDFVR9UigCwRiwmNSwlJZkP3PyU 2021-04-21 17:26:53  \n",
              "2   8VTYLnaJZW7dfQH72tPXAbvyNIWeWLU7 2021-04-21 23:59:35  \n",
              "3   8VTYLnaJZW7dfQH72tPXAbvyNIWeWLU7 2021-04-22 00:10:23  \n",
              "4   ywXGzqthzpkiwsrTckExu9nVVoDjNjK4 2021-04-21 00:04:58  \n",
              "5   8VTYLnaJZW7dfQH72tPXAbvyNIWeWLU7 2021-04-20 11:18:45  \n",
              "6   PFm4s8dmTBsIFEMqHApcGgutH2goD0v2 2021-04-20 11:23:21  \n",
              "7   8VTYLnaJZW7dfQH72tPXAbvyNIWeWLU7 2021-04-20 10:50:07  \n",
              "8   8VTYLnaJZW7dfQH72tPXAbvyNIWeWLU7 2021-04-20 10:59:48  \n",
              "9   PFm4s8dmTBsIFEMqHApcGgutH2goD0v2 2021-04-21 12:11:07  \n",
              "10  PFm4s8dmTBsIFEMqHApcGgutH2goD0v2 2021-04-21 12:20:26  \n",
              "11  PFm4s8dmTBsIFEMqHApcGgutH2goD0v2 2021-04-21 12:23:34  "
            ]
          },
          "execution_count": 9,
          "metadata": {},
          "output_type": "execute_result"
        }
      ],
      "source": [
        "df.head(12)"
      ]
    },
    {
      "cell_type": "markdown",
      "metadata": {},
      "source": [
        "Remove duplicate clicks"
      ]
    },
    {
      "cell_type": "code",
      "execution_count": 10,
      "metadata": {
        "colab": {
          "base_uri": "https://localhost:8080/",
          "height": 450
        },
        "id": "PFR_zuJmVjcv",
        "outputId": "a99aeb7e-bb15-468b-86a6-a778ed7610cf"
      },
      "outputs": [],
      "source": [
        "maxSeconds = 600 # 10 minutes in seconds\n",
        "previousIndex = 0\n",
        "for i, row in df.iterrows():\n",
        "\n",
        "  # we don't look at the first line because we have nothing to compare it with\n",
        "  if (i != 0):\n",
        "\n",
        "    # boolean variable, which is used to identify the deleted click,\n",
        "    # after deleting we do not want to compare the next line with the deleted\n",
        "    deleted = False\n",
        "\n",
        "    # we compare the click only if the hash of the user and the advertisement are equal\n",
        "    if ((df.at[i, 'visitorHash'] == df.at[previousIndex, 'visitorHash']) and (df.at[i, 'adId'] == df.at[previousIndex, 'adId'])):\n",
        "\n",
        "        # subtract click times and get the difference in seconds\n",
        "        subtract = (df.at[i, 'clickTimestamp'] - df.at[previousIndex, 'clickTimestamp']).total_seconds()\n",
        "\n",
        "        # if the difference is less than 10 minutes (600 seconds), then we will delete the row from the dataframe\n",
        "        if (subtract < maxSeconds):\n",
        "          df_clicks.drop(df.at[i, 'index'], inplace=True)\n",
        "          deleted = True\n",
        "    \n",
        "    # if the row has not been deleted, set the previous row index to current\n",
        "    if(not deleted):\n",
        "      previousIndex = i\n",
        "      deleted = False"
      ]
    },
    {
      "cell_type": "markdown",
      "metadata": {},
      "source": [
        "We removed 2 rows from the table, where the same user clicked twice on the same advertisement in less than 10 minutes"
      ]
    },
    {
      "cell_type": "code",
      "execution_count": 11,
      "metadata": {},
      "outputs": [
        {
          "data": {
            "text/html": [
              "<div>\n",
              "<style scoped>\n",
              "    .dataframe tbody tr th:only-of-type {\n",
              "        vertical-align: middle;\n",
              "    }\n",
              "\n",
              "    .dataframe tbody tr th {\n",
              "        vertical-align: top;\n",
              "    }\n",
              "\n",
              "    .dataframe thead th {\n",
              "        text-align: right;\n",
              "    }\n",
              "</style>\n",
              "<table border=\"1\" class=\"dataframe\">\n",
              "  <thead>\n",
              "    <tr style=\"text-align: right;\">\n",
              "      <th></th>\n",
              "      <th>clickTimestamp</th>\n",
              "      <th>impressionId</th>\n",
              "    </tr>\n",
              "  </thead>\n",
              "  <tbody>\n",
              "    <tr>\n",
              "      <th>0</th>\n",
              "      <td>2021-04-20 10:50:07</td>\n",
              "      <td>1</td>\n",
              "    </tr>\n",
              "    <tr>\n",
              "      <th>2</th>\n",
              "      <td>2021-04-20 11:23:21</td>\n",
              "      <td>4</td>\n",
              "    </tr>\n",
              "    <tr>\n",
              "      <th>3</th>\n",
              "      <td>2021-04-20 11:18:45</td>\n",
              "      <td>5</td>\n",
              "    </tr>\n",
              "    <tr>\n",
              "      <th>4</th>\n",
              "      <td>2021-04-21 00:04:58</td>\n",
              "      <td>11</td>\n",
              "    </tr>\n",
              "    <tr>\n",
              "      <th>5</th>\n",
              "      <td>2021-04-21 12:11:07</td>\n",
              "      <td>14</td>\n",
              "    </tr>\n",
              "    <tr>\n",
              "      <th>7</th>\n",
              "      <td>2021-04-21 12:23:34</td>\n",
              "      <td>15</td>\n",
              "    </tr>\n",
              "    <tr>\n",
              "      <th>8</th>\n",
              "      <td>2021-04-21 17:12:48</td>\n",
              "      <td>22</td>\n",
              "    </tr>\n",
              "    <tr>\n",
              "      <th>9</th>\n",
              "      <td>2021-04-21 17:26:53</td>\n",
              "      <td>22</td>\n",
              "    </tr>\n",
              "    <tr>\n",
              "      <th>10</th>\n",
              "      <td>2021-04-21 23:59:35</td>\n",
              "      <td>26</td>\n",
              "    </tr>\n",
              "    <tr>\n",
              "      <th>11</th>\n",
              "      <td>2021-04-22 00:10:23</td>\n",
              "      <td>27</td>\n",
              "    </tr>\n",
              "  </tbody>\n",
              "</table>\n",
              "</div>"
            ],
            "text/plain": [
              "         clickTimestamp  impressionId\n",
              "0   2021-04-20 10:50:07             1\n",
              "2   2021-04-20 11:23:21             4\n",
              "3   2021-04-20 11:18:45             5\n",
              "4   2021-04-21 00:04:58            11\n",
              "5   2021-04-21 12:11:07            14\n",
              "7   2021-04-21 12:23:34            15\n",
              "8   2021-04-21 17:12:48            22\n",
              "9   2021-04-21 17:26:53            22\n",
              "10  2021-04-21 23:59:35            26\n",
              "11  2021-04-22 00:10:23            27"
            ]
          },
          "execution_count": 11,
          "metadata": {},
          "output_type": "execute_result"
        }
      ],
      "source": [
        "df_clicks.head(100)"
      ]
    },
    {
      "cell_type": "markdown",
      "metadata": {
        "id": "KFXABLPnYSol"
      },
      "source": [
        "MySQL - docker"
      ]
    },
    {
      "cell_type": "markdown",
      "metadata": {
        "id": "Qg6mKoRzYViu"
      },
      "source": [
        "![title](docker_container.PNG)"
      ]
    },
    {
      "cell_type": "markdown",
      "metadata": {},
      "source": [
        "Create a new database if it doesn't exist"
      ]
    },
    {
      "cell_type": "code",
      "execution_count": 12,
      "metadata": {
        "colab": {
          "base_uri": "https://localhost:8080/",
          "height": 432
        },
        "id": "VWq9QJkImo8N",
        "outputId": "15d68a96-d173-4a21-8607-b3aa62fcbf39"
      },
      "outputs": [],
      "source": [
        "import mysql.connector\n",
        "\n",
        "mydb = mysql.connector.connect(\n",
        "  host=\"127.0.0.1\",\n",
        "  user=\"root\",\n",
        "  password=\"root\"\n",
        ")\n",
        "\n",
        "mycursor = mydb.cursor()\n",
        "mycursor.execute(\"SHOW DATABASES\")\n",
        "exists = False\n",
        "\n",
        "for x in mycursor:\n",
        "  if (str(x) == \"('seznam_advertising',)\"): exists = True\n",
        "\n",
        "if (not exists):\n",
        "  mycursor.execute(\"CREATE DATABASE seznam_advertising\")"
      ]
    },
    {
      "cell_type": "markdown",
      "metadata": {},
      "source": [
        "Create tables if they do not exist in the database"
      ]
    },
    {
      "cell_type": "markdown",
      "metadata": {},
      "source": [
        "In the assignment is written to create a table, but it doesn't seem appropriate to me to combine impressions and clicks, as we will have empty values when the impression had no clicks"
      ]
    },
    {
      "cell_type": "code",
      "execution_count": 14,
      "metadata": {},
      "outputs": [],
      "source": [
        "mydb = mysql.connector.connect(\n",
        "  host=\"127.0.0.1\",\n",
        "  user=\"root\",\n",
        "  password=\"root\",\n",
        "  database=\"seznam_advertising\"\n",
        ")\n",
        "\n",
        "mycursor = mydb.cursor()\n",
        "mycursor.execute(\"SHOW TABLES\")\n",
        "exists = False\n",
        "\n",
        "for x in mycursor:\n",
        "  if (str(x) == \"('clicks',)\" or str(x) == \"('impressions',)\" ): exists = True\n",
        "\n",
        "if (not exists):\n",
        "    mycursor.execute(\"CREATE TABLE impressions (impressionId INT PRIMARY KEY, impressionTime DATETIME, adId INT, visitorHash VARCHAR(255))\")\n",
        "    mycursor.execute(\"CREATE TABLE clicks (id INT AUTO_INCREMENT PRIMARY KEY, clickTimestamp DATETIME, impressionId INT, FOREIGN KEY (impressionId) REFERENCES impressions(impressionId))\")"
      ]
    },
    {
      "cell_type": "markdown",
      "metadata": {},
      "source": [
        "We will use create_engine from sqlalchemy to insert dataframes into database"
      ]
    },
    {
      "cell_type": "code",
      "execution_count": 15,
      "metadata": {},
      "outputs": [],
      "source": [
        "from sqlalchemy import create_engine\n",
        "\n",
        "DATABSE_URI='mysql+mysqlconnector://{user}:{password}@{server}/{database}'.format(user='root', password='root', server='127.0.0.1', database='seznam_advertising')\n",
        "\n",
        "engine = create_engine(DATABSE_URI)"
      ]
    },
    {
      "cell_type": "markdown",
      "metadata": {},
      "source": [
        "Insert dataframe 'impressions' into database"
      ]
    },
    {
      "cell_type": "code",
      "execution_count": 16,
      "metadata": {},
      "outputs": [
        {
          "data": {
            "text/plain": [
              "30"
            ]
          },
          "execution_count": 16,
          "metadata": {},
          "output_type": "execute_result"
        }
      ],
      "source": [
        "df_impressions.to_sql('impressions', engine, if_exists='append', index=False)  "
      ]
    },
    {
      "cell_type": "markdown",
      "metadata": {},
      "source": [
        "Insert dataframe 'clicks' into databázy"
      ]
    },
    {
      "cell_type": "code",
      "execution_count": 17,
      "metadata": {},
      "outputs": [
        {
          "data": {
            "text/plain": [
              "10"
            ]
          },
          "execution_count": 17,
          "metadata": {},
          "output_type": "execute_result"
        }
      ],
      "source": [
        "df_clicks.to_sql('clicks', engine, if_exists='append', index=False)  "
      ]
    },
    {
      "cell_type": "markdown",
      "metadata": {},
      "source": [
        "Load inserted rows from table 'impressions'"
      ]
    },
    {
      "cell_type": "code",
      "execution_count": 18,
      "metadata": {},
      "outputs": [
        {
          "name": "stdout",
          "output_type": "stream",
          "text": [
            "(1, datetime.datetime(2021, 4, 20, 10, 48, 7), 4, '8VTYLnaJZW7dfQH72tPXAbvyNIWeWLU7')\n",
            "(2, datetime.datetime(2021, 4, 20, 10, 54, 45), 1, 'qwFm9BDFVR9UigCwRiwmNSwlJZkP3PyU')\n",
            "(3, datetime.datetime(2021, 4, 20, 10, 52, 57), 4, '8VTYLnaJZW7dfQH72tPXAbvyNIWeWLU7')\n",
            "(4, datetime.datetime(2021, 4, 20, 11, 3, 12), 3, 'PFm4s8dmTBsIFEMqHApcGgutH2goD0v2')\n",
            "(5, datetime.datetime(2021, 4, 20, 11, 9, 45), 3, '8VTYLnaJZW7dfQH72tPXAbvyNIWeWLU7')\n",
            "(6, datetime.datetime(2021, 4, 20, 11, 45, 6), 1, 'ywXGzqthzpkiwsrTckExu9nVVoDjNjK4')\n",
            "(7, datetime.datetime(2021, 4, 20, 11, 56, 12), 2, 'qwFm9BDFVR9UigCwRiwmNSwlJZkP3PyU')\n",
            "(8, datetime.datetime(2021, 4, 20, 13, 6, 50), 1, '8VTYLnaJZW7dfQH72tPXAbvyNIWeWLU7')\n",
            "(9, datetime.datetime(2021, 4, 20, 14, 2, 12), 4, 'qwFm9BDFVR9UigCwRiwmNSwlJZkP3PyU')\n",
            "(10, datetime.datetime(2021, 4, 20, 23, 52, 59), 2, 'ywXGzqthzpkiwsrTckExu9nVVoDjNjK4')\n",
            "(11, datetime.datetime(2021, 4, 21, 0, 2, 43), 2, 'ywXGzqthzpkiwsrTckExu9nVVoDjNjK4')\n",
            "(12, datetime.datetime(2021, 4, 21, 6, 45, 51), 1, 'PFm4s8dmTBsIFEMqHApcGgutH2goD0v2')\n",
            "(13, datetime.datetime(2021, 4, 21, 10, 38, 7), 3, '8VTYLnaJZW7dfQH72tPXAbvyNIWeWLU7')\n",
            "(14, datetime.datetime(2021, 4, 21, 12, 7, 51), 4, 'PFm4s8dmTBsIFEMqHApcGgutH2goD0v2')\n",
            "(15, datetime.datetime(2021, 4, 21, 12, 13, 49), 4, 'PFm4s8dmTBsIFEMqHApcGgutH2goD0v2')\n",
            "(16, datetime.datetime(2021, 4, 21, 13, 43, 27), 2, 'ywXGzqthzpkiwsrTckExu9nVVoDjNjK4')\n",
            "(17, datetime.datetime(2021, 4, 21, 14, 5, 12), 1, 'qwFm9BDFVR9UigCwRiwmNSwlJZkP3PyU')\n",
            "(18, datetime.datetime(2021, 4, 21, 14, 37, 56), 3, '8VTYLnaJZW7dfQH72tPXAbvyNIWeWLU7')\n",
            "(19, datetime.datetime(2021, 4, 21, 14, 40, 3), 3, 'PFm4s8dmTBsIFEMqHApcGgutH2goD0v2')\n",
            "(20, datetime.datetime(2021, 4, 21, 15, 20, 53), 4, 'ywXGzqthzpkiwsrTckExu9nVVoDjNjK4')\n",
            "(21, datetime.datetime(2021, 4, 21, 15, 56, 17), 2, 'qwFm9BDFVR9UigCwRiwmNSwlJZkP3PyU')\n",
            "(22, datetime.datetime(2021, 4, 21, 17, 7, 8), 1, 'qwFm9BDFVR9UigCwRiwmNSwlJZkP3PyU')\n",
            "(23, datetime.datetime(2021, 4, 21, 17, 23, 48), 1, 'qwFm9BDFVR9UigCwRiwmNSwlJZkP3PyU')\n",
            "(24, datetime.datetime(2021, 4, 21, 18, 38, 47), 4, 'PFm4s8dmTBsIFEMqHApcGgutH2goD0v2')\n",
            "(25, datetime.datetime(2021, 4, 21, 19, 8, 7), 3, '8VTYLnaJZW7dfQH72tPXAbvyNIWeWLU7')\n",
            "(26, datetime.datetime(2021, 4, 21, 23, 58, 7), 2, '8VTYLnaJZW7dfQH72tPXAbvyNIWeWLU7')\n",
            "(27, datetime.datetime(2021, 4, 22, 0, 4, 56), 2, '8VTYLnaJZW7dfQH72tPXAbvyNIWeWLU7')\n",
            "(28, datetime.datetime(2021, 4, 22, 3, 45, 23), 1, 'qwFm9BDFVR9UigCwRiwmNSwlJZkP3PyU')\n",
            "(29, datetime.datetime(2021, 4, 22, 9, 23, 51), 4, 'PFm4s8dmTBsIFEMqHApcGgutH2goD0v2')\n",
            "(30, datetime.datetime(2021, 4, 22, 11, 7, 46), 3, 'ywXGzqthzpkiwsrTckExu9nVVoDjNjK4')\n"
          ]
        }
      ],
      "source": [
        "mydb = mysql.connector.connect(\n",
        "  host=\"127.0.0.1\",\n",
        "  user=\"root\",\n",
        "  password=\"root\",\n",
        "  database=\"seznam_advertising\"\n",
        ")\n",
        "\n",
        "mycursor = mydb.cursor()\n",
        "\n",
        "mycursor.execute(\"SELECT * FROM impressions\")\n",
        "\n",
        "myresult = mycursor.fetchall()\n",
        "\n",
        "for x in myresult:\n",
        "  print(x)"
      ]
    },
    {
      "cell_type": "markdown",
      "metadata": {},
      "source": [
        "Load inserted rows from table 'clicks'"
      ]
    },
    {
      "cell_type": "code",
      "execution_count": 19,
      "metadata": {},
      "outputs": [
        {
          "name": "stdout",
          "output_type": "stream",
          "text": [
            "('2021-04-20 10:50:07', 1)\n",
            "('2021-04-20 11:23:21', 4)\n",
            "('2021-04-20 11:18:45', 5)\n",
            "('2021-04-21 00:04:58', 11)\n",
            "('2021-04-21 12:11:07', 14)\n",
            "('2021-04-21 12:23:34', 15)\n",
            "('2021-04-21 17:12:48', 22)\n",
            "('2021-04-21 17:26:53', 22)\n",
            "('2021-04-21 23:59:35', 26)\n",
            "('2021-04-22 00:10:23', 27)\n"
          ]
        }
      ],
      "source": [
        "mydb = mysql.connector.connect(\n",
        "  host=\"127.0.0.1\",\n",
        "  user=\"root\",\n",
        "  password=\"root\",\n",
        "  database=\"seznam_advertising\"\n",
        ")\n",
        "\n",
        "mycursor = mydb.cursor()\n",
        "\n",
        "mycursor.execute(\"SELECT * FROM clicks\")\n",
        "\n",
        "myresult = mycursor.fetchall()\n",
        "\n",
        "for x in myresult:\n",
        "  print(x)"
      ]
    },
    {
      "cell_type": "markdown",
      "metadata": {},
      "source": [
        "Queries"
      ]
    },
    {
      "cell_type": "markdown",
      "metadata": {},
      "source": [
        "How many impressions did the ad with ID X had on day Y?"
      ]
    },
    {
      "cell_type": "code",
      "execution_count": 20,
      "metadata": {},
      "outputs": [
        {
          "name": "stdout",
          "output_type": "stream",
          "text": [
            "(3,)\n"
          ]
        }
      ],
      "source": [
        "mydb = mysql.connector.connect(\n",
        "  host=\"127.0.0.1\",\n",
        "  user=\"root\",\n",
        "  password=\"root\",\n",
        "  database=\"seznam_advertising\"\n",
        ")\n",
        "\n",
        "mycursor = mydb.cursor()\n",
        "\n",
        "startDate = '2021-04-20 00:00:00'\n",
        "endDate = '2021-04-21 00:00:00'\n",
        "adId = \"4\"\n",
        "mycursor.execute(\"SELECT COUNT(*) FROM impressions WHERE adId = \" + adId + \" AND impressionTime >='\" + startDate + \"' AND impressionTime <'\" + endDate + \"'\")\n",
        "\n",
        "myresult = mycursor.fetchall()\n",
        "\n",
        "for x in myresult:\n",
        "  print(x)"
      ]
    },
    {
      "cell_type": "markdown",
      "metadata": {},
      "source": [
        "How many clicks were there on day Y?\n"
      ]
    },
    {
      "cell_type": "code",
      "execution_count": 28,
      "metadata": {},
      "outputs": [
        {
          "name": "stdout",
          "output_type": "stream",
          "text": [
            "(6,)\n"
          ]
        }
      ],
      "source": [
        "mydb = mysql.connector.connect(\n",
        "  host=\"127.0.0.1\",\n",
        "  user=\"root\",\n",
        "  password=\"root\",\n",
        "  database=\"seznam_advertising\"\n",
        ")\n",
        "\n",
        "mycursor = mydb.cursor()\n",
        "\n",
        "startDate = '2021-04-20 00:00:00'\n",
        "endDate = '2021-04-21 00:00:00'\n",
        "mycursor.execute(\"SELECT COUNT(*) FROM `clicks` INNER JOIN `impressions` ON impressions.impressionId = clicks.impressionId WHERE impressionTime >='\" + startDate + \"' AND impressionTime <'\" + endDate + \"'\")\n",
        "\n",
        "myresult = mycursor.fetchall()\n",
        "\n",
        "for x in myresult:\n",
        "  print(x)"
      ]
    }
  ],
  "metadata": {
    "colab": {
      "collapsed_sections": [],
      "name": "Untitled0.ipynb",
      "provenance": []
    },
    "interpreter": {
      "hash": "8fd6a31b47378731f64d954642d8e2d3dae82e8788962af142cae5ba5bfc9803"
    },
    "kernelspec": {
      "display_name": "Python 3.10.4 64-bit",
      "language": "python",
      "name": "python3"
    },
    "language_info": {
      "codemirror_mode": {
        "name": "ipython",
        "version": 3
      },
      "file_extension": ".py",
      "mimetype": "text/x-python",
      "name": "python",
      "nbconvert_exporter": "python",
      "pygments_lexer": "ipython3",
      "version": "3.10.4"
    }
  },
  "nbformat": 4,
  "nbformat_minor": 0
}
